{
  "nbformat": 4,
  "nbformat_minor": 0,
  "metadata": {
    "colab": {
      "provenance": [],
      "authorship_tag": "ABX9TyORKWILsTPaa58sVv21oZCp"
    },
    "kernelspec": {
      "name": "python3",
      "display_name": "Python 3"
    },
    "language_info": {
      "name": "python"
    }
  },
  "cells": [
    {
      "cell_type": "code",
      "execution_count": 2,
      "metadata": {
        "id": "OboV5d9VPx60"
      },
      "outputs": [],
      "source": [
        "# memuat numpy sebagai np\n",
        "import numpy as np\n",
        "\n",
        "# memuat pandas sebagai pd\n",
        "import pandas as pd"
      ]
    },
    {
      "cell_type": "code",
      "source": [
        "# memuat data bernama 'dataset_statistics.csv' dan memasukkan hasilnya ke dalam 'raw_data'\n",
        "raw_data = pd.read_csv(\"https://storage.googleapis.com/dqlab-dataset/dataset_statistic.csv\", sep=';')\n",
        "\n",
        "# melihat keseluruhan data\n",
        "print (raw_data)"
      ],
      "metadata": {
        "colab": {
          "base_uri": "https://localhost:8080/"
        },
        "id": "ccodP_qYP46_",
        "outputId": "bf6c93aa-dc97-4298-a5f9-5cd553282738"
      },
      "execution_count": 3,
      "outputs": [
        {
          "output_type": "stream",
          "name": "stdout",
          "text": [
            "    ID Pelanggan     Nama  Jenis Kelamin  Pendapatan Produk   Harga  Jumlah   \\\n",
            "0              1     Arif              1      600000      A  100000        4   \n",
            "1              2     Dian              2     1200000      D  250000        4   \n",
            "2              3    Dinda              2      950000      D  250000        3   \n",
            "3              4    Fajar              1      400000      A  100000        2   \n",
            "4              5      Ika              2     1200000      D  250000        4   \n",
            "5              6    Ilham              1      800000      B  150000        4   \n",
            "6              7    Indra              1      950000      B  150000        5   \n",
            "7              8  Kartika              2     1100000      E  300000        3   \n",
            "8              9  Lestari              2      800000      E  300000        2   \n",
            "9             10      Lia              2     1700000      E  300000        5   \n",
            "10            11    Maria              2      600000      A  100000        4   \n",
            "11            12     Maya              2      950000      B  150000        5   \n",
            "12            13     Mila              2      400000      C  200000        1   \n",
            "13            14    Nurul              2     6450000      D  250000        5   \n",
            "14            15    Retno              2     1000000      C  200000        4   \n",
            "15            16     Rini              2      800000      B  150000        4   \n",
            "16            17    Rizki              1     1200000      C  200000        5   \n",
            "17            18     Sari              2      700000      D  250000        2   \n",
            "18            19     Tyas              2      600000      A  100000        4   \n",
            "19            20    Wahyu              1      800000      C  200000        3   \n",
            "\n",
            "      Total  Tingkat Kepuasan  \n",
            "0    400000                 2  \n",
            "1   1000000                 2  \n",
            "2    750000                 3  \n",
            "3    200000                 3  \n",
            "4   1000000                 2  \n",
            "5    600000                 3  \n",
            "6    750000                 1  \n",
            "7    900000                 3  \n",
            "8    600000                 1  \n",
            "9   1500000                 1  \n",
            "10   400000                 3  \n",
            "11   750000                 3  \n",
            "12   200000                 2  \n",
            "13  1250000                 1  \n",
            "14   800000                 2  \n",
            "15   600000                 1  \n",
            "16  1000000                 3  \n",
            "17   500000                 1  \n",
            "18   400000                 3  \n",
            "19   600000                 1  \n"
          ]
        }
      ]
    },
    {
      "cell_type": "code",
      "source": [
        "# melihat 5 data pada baris pertama\n",
        "print (raw_data.head(5))"
      ],
      "metadata": {
        "colab": {
          "base_uri": "https://localhost:8080/"
        },
        "id": "NleNrAXrQRD4",
        "outputId": "3a0c077c-da25-4ee3-a319-5de083650ec4"
      },
      "execution_count": 4,
      "outputs": [
        {
          "output_type": "stream",
          "name": "stdout",
          "text": [
            "   ID Pelanggan   Nama  Jenis Kelamin  Pendapatan Produk   Harga  Jumlah   \\\n",
            "0             1   Arif              1      600000      A  100000        4   \n",
            "1             2   Dian              2     1200000      D  250000        4   \n",
            "2             3  Dinda              2      950000      D  250000        3   \n",
            "3             4  Fajar              1      400000      A  100000        2   \n",
            "4             5    Ika              2     1200000      D  250000        4   \n",
            "\n",
            "     Total  Tingkat Kepuasan  \n",
            "0   400000                 2  \n",
            "1  1000000                 2  \n",
            "2   750000                 3  \n",
            "3   200000                 3  \n",
            "4  1000000                 2  \n"
          ]
        }
      ]
    },
    {
      "cell_type": "code",
      "source": [
        "# melihat 5 data pada baris terakhir\n",
        "print (raw_data.tail())"
      ],
      "metadata": {
        "colab": {
          "base_uri": "https://localhost:8080/"
        },
        "id": "ZYCKTjBXQXZ7",
        "outputId": "c9272e9e-37a4-4235-ac8b-4c616d8ccebe"
      },
      "execution_count": 5,
      "outputs": [
        {
          "output_type": "stream",
          "name": "stdout",
          "text": [
            "    ID Pelanggan   Nama  Jenis Kelamin  Pendapatan Produk   Harga  Jumlah   \\\n",
            "15            16   Rini              2      800000      B  150000        4   \n",
            "16            17  Rizki              1     1200000      C  200000        5   \n",
            "17            18   Sari              2      700000      D  250000        2   \n",
            "18            19   Tyas              2      600000      A  100000        4   \n",
            "19            20  Wahyu              1      800000      C  200000        3   \n",
            "\n",
            "      Total  Tingkat Kepuasan  \n",
            "15   600000                 1  \n",
            "16  1000000                 3  \n",
            "17   500000                 1  \n",
            "18   400000                 3  \n",
            "19   600000                 1  \n"
          ]
        }
      ]
    },
    {
      "cell_type": "code",
      "source": [
        "# melihat dimensi dari raw_data\n",
        "print (raw_data.shape)"
      ],
      "metadata": {
        "colab": {
          "base_uri": "https://localhost:8080/"
        },
        "id": "o2QZ7Cs7RAuR",
        "outputId": "dbf6f4a6-d54a-4d3a-b4a8-185967c36d63"
      },
      "execution_count": 6,
      "outputs": [
        {
          "output_type": "stream",
          "name": "stdout",
          "text": [
            "(20, 9)\n"
          ]
        }
      ]
    },
    {
      "cell_type": "code",
      "source": [
        "# mengambil jumlah data\n",
        "print (raw_data.shape[0])"
      ],
      "metadata": {
        "colab": {
          "base_uri": "https://localhost:8080/"
        },
        "id": "-kVxRZ8QRdlA",
        "outputId": "a3a5446c-97d0-4023-cfd5-af66590b52ac"
      },
      "execution_count": 7,
      "outputs": [
        {
          "output_type": "stream",
          "name": "stdout",
          "text": [
            "20\n"
          ]
        }
      ]
    },
    {
      "cell_type": "code",
      "source": [
        "# melihat kolom apa saja yang ada dalam dataset\n",
        "print (raw_data.columns)"
      ],
      "metadata": {
        "colab": {
          "base_uri": "https://localhost:8080/"
        },
        "id": "Hj_5fhvOSACr",
        "outputId": "4a8e543a-ea43-4703-ac0c-2d8ce5840ade"
      },
      "execution_count": 8,
      "outputs": [
        {
          "output_type": "stream",
          "name": "stdout",
          "text": [
            "Index(['ID Pelanggan', 'Nama', 'Jenis Kelamin', 'Pendapatan', 'Produk',\n",
            "       'Harga', 'Jumlah ', 'Total', 'Tingkat Kepuasan'],\n",
            "      dtype='object')\n"
          ]
        }
      ]
    },
    {
      "cell_type": "markdown",
      "source": [
        "Ada berapa banyak data yang hilang dari dataset?\n",
        "\n",
        "\n",
        "Untuk melihat data dari dataset bisa menggunakan method isna:\n",
        "`raw_data.isna()`\n",
        "\n",
        "\n",
        "Nilai kolom akan bernilai False jika tidak terdapat nilai na dan akan bernilai True jika sebaliknya.\n",
        "\n",
        "\n",
        "Untuk menghitung jumlah data yang hilang dari dataset, bisa menggabungkan method isna dengan method sum: `raw_data.isna().sum()`"
      ],
      "metadata": {
        "id": "rZ0R_AOjS0FO"
      }
    },
    {
      "cell_type": "code",
      "source": [
        "print (raw_data.isna())"
      ],
      "metadata": {
        "colab": {
          "base_uri": "https://localhost:8080/"
        },
        "id": "wI2THixCTH5y",
        "outputId": "96d6a0e1-e916-41f9-f802-38ee48fd0e2d"
      },
      "execution_count": 9,
      "outputs": [
        {
          "output_type": "stream",
          "name": "stdout",
          "text": [
            "    ID Pelanggan   Nama  Jenis Kelamin  Pendapatan  Produk  Harga  Jumlah   \\\n",
            "0          False  False          False       False   False  False    False   \n",
            "1          False  False          False       False   False  False    False   \n",
            "2          False  False          False       False   False  False    False   \n",
            "3          False  False          False       False   False  False    False   \n",
            "4          False  False          False       False   False  False    False   \n",
            "5          False  False          False       False   False  False    False   \n",
            "6          False  False          False       False   False  False    False   \n",
            "7          False  False          False       False   False  False    False   \n",
            "8          False  False          False       False   False  False    False   \n",
            "9          False  False          False       False   False  False    False   \n",
            "10         False  False          False       False   False  False    False   \n",
            "11         False  False          False       False   False  False    False   \n",
            "12         False  False          False       False   False  False    False   \n",
            "13         False  False          False       False   False  False    False   \n",
            "14         False  False          False       False   False  False    False   \n",
            "15         False  False          False       False   False  False    False   \n",
            "16         False  False          False       False   False  False    False   \n",
            "17         False  False          False       False   False  False    False   \n",
            "18         False  False          False       False   False  False    False   \n",
            "19         False  False          False       False   False  False    False   \n",
            "\n",
            "    Total  Tingkat Kepuasan  \n",
            "0   False             False  \n",
            "1   False             False  \n",
            "2   False             False  \n",
            "3   False             False  \n",
            "4   False             False  \n",
            "5   False             False  \n",
            "6   False             False  \n",
            "7   False             False  \n",
            "8   False             False  \n",
            "9   False             False  \n",
            "10  False             False  \n",
            "11  False             False  \n",
            "12  False             False  \n",
            "13  False             False  \n",
            "14  False             False  \n",
            "15  False             False  \n",
            "16  False             False  \n",
            "17  False             False  \n",
            "18  False             False  \n",
            "19  False             False  \n"
          ]
        }
      ]
    },
    {
      "cell_type": "code",
      "source": [
        "print (raw_data.isna().sum())"
      ],
      "metadata": {
        "colab": {
          "base_uri": "https://localhost:8080/"
        },
        "id": "tLWEjXOpUPFr",
        "outputId": "1e5a12a4-4ad1-4d6a-dc7a-c1f21f9278b1"
      },
      "execution_count": 10,
      "outputs": [
        {
          "output_type": "stream",
          "name": "stdout",
          "text": [
            "ID Pelanggan        0\n",
            "Nama                0\n",
            "Jenis Kelamin       0\n",
            "Pendapatan          0\n",
            "Produk              0\n",
            "Harga               0\n",
            "Jumlah              0\n",
            "Total               0\n",
            "Tingkat Kepuasan    0\n",
            "dtype: int64\n"
          ]
        }
      ]
    },
    {
      "cell_type": "markdown",
      "source": [
        "Untuk bisa melihat ringkasan dari data misalnya rerata, jumlah, nilai maksimum-minimum dan ukuran lainnya, kita dapat menggunakan method .`describe()`:"
      ],
      "metadata": {
        "id": "T6g2j4_TZ1gQ"
      }
    },
    {
      "cell_type": "code",
      "source": [
        "print (raw_data.describe())"
      ],
      "metadata": {
        "colab": {
          "base_uri": "https://localhost:8080/"
        },
        "id": "mseoP7ThZtqg",
        "outputId": "836fd943-0c57-4e66-bce8-dfa5ef9cbb5e"
      },
      "execution_count": 11,
      "outputs": [
        {
          "output_type": "stream",
          "name": "stdout",
          "text": [
            "       ID Pelanggan  Jenis Kelamin    Pendapatan          Harga    Jumlah   \\\n",
            "count      20.00000      20.000000  2.000000e+01      20.000000  20.000000   \n",
            "mean       10.50000       1.700000  1.160000e+06  197500.000000   3.650000   \n",
            "std         5.91608       0.470162  1.282842e+06   69726.910912   1.182103   \n",
            "min         1.00000       1.000000  4.000000e+05  100000.000000   1.000000   \n",
            "25%         5.75000       1.000000  6.750000e+05  150000.000000   3.000000   \n",
            "50%        10.50000       2.000000  8.750000e+05  200000.000000   4.000000   \n",
            "75%        15.25000       2.000000  1.125000e+06  250000.000000   4.250000   \n",
            "max        20.00000       2.000000  6.450000e+06  300000.000000   5.000000   \n",
            "\n",
            "              Total  Tingkat Kepuasan  \n",
            "count  2.000000e+01         20.000000  \n",
            "mean   7.100000e+05          2.050000  \n",
            "std    3.338768e+05          0.887041  \n",
            "min    2.000000e+05          1.000000  \n",
            "25%    4.750000e+05          1.000000  \n",
            "50%    6.750000e+05          2.000000  \n",
            "75%    9.250000e+05          3.000000  \n",
            "max    1.500000e+06          3.000000  \n"
          ]
        }
      ]
    },
    {
      "cell_type": "code",
      "source": [
        "# Mencari nilai maksimum dari tiap kolom\n",
        "raw_data.max()"
      ],
      "metadata": {
        "colab": {
          "base_uri": "https://localhost:8080/",
          "height": 366
        },
        "id": "v78cSMSKZ427",
        "outputId": "42e7e869-8628-4c5c-8c13-0559bf04885d"
      },
      "execution_count": 12,
      "outputs": [
        {
          "output_type": "execute_result",
          "data": {
            "text/plain": [
              "ID Pelanggan             20\n",
              "Nama                  Wahyu\n",
              "Jenis Kelamin             2\n",
              "Pendapatan          6450000\n",
              "Produk                    E\n",
              "Harga                300000\n",
              "Jumlah                    5\n",
              "Total               1500000\n",
              "Tingkat Kepuasan          3\n",
              "dtype: object"
            ],
            "text/html": [
              "<div>\n",
              "<style scoped>\n",
              "    .dataframe tbody tr th:only-of-type {\n",
              "        vertical-align: middle;\n",
              "    }\n",
              "\n",
              "    .dataframe tbody tr th {\n",
              "        vertical-align: top;\n",
              "    }\n",
              "\n",
              "    .dataframe thead th {\n",
              "        text-align: right;\n",
              "    }\n",
              "</style>\n",
              "<table border=\"1\" class=\"dataframe\">\n",
              "  <thead>\n",
              "    <tr style=\"text-align: right;\">\n",
              "      <th></th>\n",
              "      <th>0</th>\n",
              "    </tr>\n",
              "  </thead>\n",
              "  <tbody>\n",
              "    <tr>\n",
              "      <th>ID Pelanggan</th>\n",
              "      <td>20</td>\n",
              "    </tr>\n",
              "    <tr>\n",
              "      <th>Nama</th>\n",
              "      <td>Wahyu</td>\n",
              "    </tr>\n",
              "    <tr>\n",
              "      <th>Jenis Kelamin</th>\n",
              "      <td>2</td>\n",
              "    </tr>\n",
              "    <tr>\n",
              "      <th>Pendapatan</th>\n",
              "      <td>6450000</td>\n",
              "    </tr>\n",
              "    <tr>\n",
              "      <th>Produk</th>\n",
              "      <td>E</td>\n",
              "    </tr>\n",
              "    <tr>\n",
              "      <th>Harga</th>\n",
              "      <td>300000</td>\n",
              "    </tr>\n",
              "    <tr>\n",
              "      <th>Jumlah</th>\n",
              "      <td>5</td>\n",
              "    </tr>\n",
              "    <tr>\n",
              "      <th>Total</th>\n",
              "      <td>1500000</td>\n",
              "    </tr>\n",
              "    <tr>\n",
              "      <th>Tingkat Kepuasan</th>\n",
              "      <td>3</td>\n",
              "    </tr>\n",
              "  </tbody>\n",
              "</table>\n",
              "</div><br><label><b>dtype:</b> object</label>"
            ]
          },
          "metadata": {},
          "execution_count": 12
        }
      ]
    },
    {
      "cell_type": "code",
      "source": [
        "# Mencari nilai maksimum dari kolom 'Harga'\n",
        "raw_data['Harga'].max()"
      ],
      "metadata": {
        "colab": {
          "base_uri": "https://localhost:8080/"
        },
        "id": "zET8qL-6aGz9",
        "outputId": "1cec6c08-e63f-4f72-8195-87b23cc074a1"
      },
      "execution_count": 13,
      "outputs": [
        {
          "output_type": "execute_result",
          "data": {
            "text/plain": [
              "300000"
            ]
          },
          "metadata": {},
          "execution_count": 13
        }
      ]
    },
    {
      "cell_type": "code",
      "source": [
        "# Mencari nilai minimum dari kolom 'Harga'\n",
        "raw_data['Harga'].min()"
      ],
      "metadata": {
        "colab": {
          "base_uri": "https://localhost:8080/"
        },
        "id": "KMNar3lGaJvO",
        "outputId": "eacc41e1-e6dc-429c-8b24-508144d6af3c"
      },
      "execution_count": 14,
      "outputs": [
        {
          "output_type": "execute_result",
          "data": {
            "text/plain": [
              "100000"
            ]
          },
          "metadata": {},
          "execution_count": 14
        }
      ]
    },
    {
      "cell_type": "code",
      "source": [
        "# menghitung jumlah dari semua kolom\n",
        "print (raw_data.sum())"
      ],
      "metadata": {
        "colab": {
          "base_uri": "https://localhost:8080/"
        },
        "id": "xdSNqZu-af5l",
        "outputId": "7ce33f65-4d73-4ce7-ed46-be71a329a2f6"
      },
      "execution_count": 15,
      "outputs": [
        {
          "output_type": "stream",
          "name": "stdout",
          "text": [
            "ID Pelanggan                                                      210\n",
            "Nama                ArifDianDindaFajarIkaIlhamIndraKartikaLestariL...\n",
            "Jenis Kelamin                                                      34\n",
            "Pendapatan                                                   23200000\n",
            "Produk                                           ADDADBBEEEABCDCBCDAC\n",
            "Harga                                                         3950000\n",
            "Jumlah                                                             73\n",
            "Total                                                        14200000\n",
            "Tingkat Kepuasan                                                   41\n",
            "dtype: object\n"
          ]
        }
      ]
    },
    {
      "cell_type": "code",
      "source": [
        "# menghitung jumlah dari semua kolom\n",
        "print (raw_data.sum())"
      ],
      "metadata": {
        "colab": {
          "base_uri": "https://localhost:8080/"
        },
        "id": "gjI4r58_ahKI",
        "outputId": "1c75dce8-17a6-4b87-cf1f-cde84da7afa3"
      },
      "execution_count": 16,
      "outputs": [
        {
          "output_type": "stream",
          "name": "stdout",
          "text": [
            "ID Pelanggan                                                      210\n",
            "Nama                ArifDianDindaFajarIkaIlhamIndraKartikaLestariL...\n",
            "Jenis Kelamin                                                      34\n",
            "Pendapatan                                                   23200000\n",
            "Produk                                           ADDADBBEEEABCDCBCDAC\n",
            "Harga                                                         3950000\n",
            "Jumlah                                                             73\n",
            "Total                                                        14200000\n",
            "Tingkat Kepuasan                                                   41\n",
            "dtype: object\n"
          ]
        }
      ]
    },
    {
      "cell_type": "code",
      "source": [
        "# menghitung jumlah dari semua kolom bertipe data numerik saja\n",
        "raw_data.sum(numeric_only= True)"
      ],
      "metadata": {
        "colab": {
          "base_uri": "https://localhost:8080/",
          "height": 303
        },
        "id": "p3Q4sN5kawhq",
        "outputId": "bc8f4063-b41a-4195-9fb7-1e774b39f1e5"
      },
      "execution_count": 17,
      "outputs": [
        {
          "output_type": "execute_result",
          "data": {
            "text/plain": [
              "ID Pelanggan             210\n",
              "Jenis Kelamin             34\n",
              "Pendapatan          23200000\n",
              "Harga                3950000\n",
              "Jumlah                    73\n",
              "Total               14200000\n",
              "Tingkat Kepuasan          41\n",
              "dtype: int64"
            ],
            "text/html": [
              "<div>\n",
              "<style scoped>\n",
              "    .dataframe tbody tr th:only-of-type {\n",
              "        vertical-align: middle;\n",
              "    }\n",
              "\n",
              "    .dataframe tbody tr th {\n",
              "        vertical-align: top;\n",
              "    }\n",
              "\n",
              "    .dataframe thead th {\n",
              "        text-align: right;\n",
              "    }\n",
              "</style>\n",
              "<table border=\"1\" class=\"dataframe\">\n",
              "  <thead>\n",
              "    <tr style=\"text-align: right;\">\n",
              "      <th></th>\n",
              "      <th>0</th>\n",
              "    </tr>\n",
              "  </thead>\n",
              "  <tbody>\n",
              "    <tr>\n",
              "      <th>ID Pelanggan</th>\n",
              "      <td>210</td>\n",
              "    </tr>\n",
              "    <tr>\n",
              "      <th>Jenis Kelamin</th>\n",
              "      <td>34</td>\n",
              "    </tr>\n",
              "    <tr>\n",
              "      <th>Pendapatan</th>\n",
              "      <td>23200000</td>\n",
              "    </tr>\n",
              "    <tr>\n",
              "      <th>Harga</th>\n",
              "      <td>3950000</td>\n",
              "    </tr>\n",
              "    <tr>\n",
              "      <th>Jumlah</th>\n",
              "      <td>73</td>\n",
              "    </tr>\n",
              "    <tr>\n",
              "      <th>Total</th>\n",
              "      <td>14200000</td>\n",
              "    </tr>\n",
              "    <tr>\n",
              "      <th>Tingkat Kepuasan</th>\n",
              "      <td>41</td>\n",
              "    </tr>\n",
              "  </tbody>\n",
              "</table>\n",
              "</div><br><label><b>dtype:</b> int64</label>"
            ]
          },
          "metadata": {},
          "execution_count": 17
        }
      ]
    },
    {
      "cell_type": "code",
      "source": [
        "# menghitung jumlah dari kolom 'Harga' dan 'Pendapatan'\n",
        "raw_data[['Harga', 'Pendapatan']].sum()"
      ],
      "metadata": {
        "colab": {
          "base_uri": "https://localhost:8080/",
          "height": 147
        },
        "id": "WjVHEvH-ay9m",
        "outputId": "dee1209e-7029-407d-f603-b94d35553452"
      },
      "execution_count": 18,
      "outputs": [
        {
          "output_type": "execute_result",
          "data": {
            "text/plain": [
              "Harga          3950000\n",
              "Pendapatan    23200000\n",
              "dtype: int64"
            ],
            "text/html": [
              "<div>\n",
              "<style scoped>\n",
              "    .dataframe tbody tr th:only-of-type {\n",
              "        vertical-align: middle;\n",
              "    }\n",
              "\n",
              "    .dataframe tbody tr th {\n",
              "        vertical-align: top;\n",
              "    }\n",
              "\n",
              "    .dataframe thead th {\n",
              "        text-align: right;\n",
              "    }\n",
              "</style>\n",
              "<table border=\"1\" class=\"dataframe\">\n",
              "  <thead>\n",
              "    <tr style=\"text-align: right;\">\n",
              "      <th></th>\n",
              "      <th>0</th>\n",
              "    </tr>\n",
              "  </thead>\n",
              "  <tbody>\n",
              "    <tr>\n",
              "      <th>Harga</th>\n",
              "      <td>3950000</td>\n",
              "    </tr>\n",
              "    <tr>\n",
              "      <th>Pendapatan</th>\n",
              "      <td>23200000</td>\n",
              "    </tr>\n",
              "  </tbody>\n",
              "</table>\n",
              "</div><br><label><b>dtype:</b> int64</label>"
            ]
          },
          "metadata": {},
          "execution_count": 18
        }
      ]
    },
    {
      "cell_type": "markdown",
      "source": [
        "Manipulasi Dataframe - Memilih Kolom dan Baris\n",
        "Terkadang kita hanya ingin melakukan analisa sebagian kecil dari data atau hanya beberapa kolom saja, untuk itu kita dapat melakukan slice-and-dice pada data yang kita punya.\n",
        "\n",
        "Untuk memilih kolom untuk dianalisa, kita dapat memanggil objek `dataframe` yang sudah dibuat dan menggunakan tanda `['nama_kolom']` untuk memilih satu kolom atau `[['nama_kolom_1', 'nama_kolom_2', ..., 'nama_kolom_n']]` untuk memilih lebih dari 1 kolom\n"
      ],
      "metadata": {
        "id": "j-DRQnXJb9pS"
      }
    },
    {
      "cell_type": "code",
      "source": [
        "# Memilih kolom 'Pendapatan' saja\n",
        "print (raw_data['Pendapatan'])"
      ],
      "metadata": {
        "colab": {
          "base_uri": "https://localhost:8080/"
        },
        "id": "Kx3nTgjbbyMk",
        "outputId": "a2ae5fa1-628e-4313-c009-9af46cc3c4f7"
      },
      "execution_count": 19,
      "outputs": [
        {
          "output_type": "stream",
          "name": "stdout",
          "text": [
            "0      600000\n",
            "1     1200000\n",
            "2      950000\n",
            "3      400000\n",
            "4     1200000\n",
            "5      800000\n",
            "6      950000\n",
            "7     1100000\n",
            "8      800000\n",
            "9     1700000\n",
            "10     600000\n",
            "11     950000\n",
            "12     400000\n",
            "13    6450000\n",
            "14    1000000\n",
            "15     800000\n",
            "16    1200000\n",
            "17     700000\n",
            "18     600000\n",
            "19     800000\n",
            "Name: Pendapatan, dtype: int64\n"
          ]
        }
      ]
    },
    {
      "cell_type": "code",
      "source": [
        "# Memilih kolom 'Jenis Kelamin' dan 'Pendapatan'\n",
        "print (raw_data[['Jenis Kelamin', 'Pendapatan']])"
      ],
      "metadata": {
        "colab": {
          "base_uri": "https://localhost:8080/"
        },
        "id": "XWxrKLNZb5ob",
        "outputId": "65a185cf-194c-4dc3-f4ea-4abc48c624a2"
      },
      "execution_count": 20,
      "outputs": [
        {
          "output_type": "stream",
          "name": "stdout",
          "text": [
            "    Jenis Kelamin  Pendapatan\n",
            "0               1      600000\n",
            "1               2     1200000\n",
            "2               2      950000\n",
            "3               1      400000\n",
            "4               2     1200000\n",
            "5               1      800000\n",
            "6               1      950000\n",
            "7               2     1100000\n",
            "8               2      800000\n",
            "9               2     1700000\n",
            "10              2      600000\n",
            "11              2      950000\n",
            "12              2      400000\n",
            "13              2     6450000\n",
            "14              2     1000000\n",
            "15              2      800000\n",
            "16              1     1200000\n",
            "17              2      700000\n",
            "18              2      600000\n",
            "19              1      800000\n"
          ]
        }
      ]
    },
    {
      "cell_type": "markdown",
      "source": [
        "Metode Loc\n",
        "Untuk memilih baris, kita dapat menggunakan `[m:n]` untuk mengambil baris data ke-m sampai ke-(n-1) atau bisa juga menggunakan method `loc` untuk pemilihan baris yang lebih spesifik."
      ],
      "metadata": {
        "id": "Z8zBYNYBkrmk"
      }
    },
    {
      "cell_type": "code",
      "source": [
        "# mengambil data dari baris ke-0 sampai baris ke-(10-1) atau baris ke-9\n",
        "print (raw_data[:10])"
      ],
      "metadata": {
        "colab": {
          "base_uri": "https://localhost:8080/"
        },
        "id": "qOCw1_58cyzd",
        "outputId": "60edaead-1773-498e-f423-ae8ebabb5a42"
      },
      "execution_count": 21,
      "outputs": [
        {
          "output_type": "stream",
          "name": "stdout",
          "text": [
            "   ID Pelanggan     Nama  Jenis Kelamin  Pendapatan Produk   Harga  Jumlah   \\\n",
            "0             1     Arif              1      600000      A  100000        4   \n",
            "1             2     Dian              2     1200000      D  250000        4   \n",
            "2             3    Dinda              2      950000      D  250000        3   \n",
            "3             4    Fajar              1      400000      A  100000        2   \n",
            "4             5      Ika              2     1200000      D  250000        4   \n",
            "5             6    Ilham              1      800000      B  150000        4   \n",
            "6             7    Indra              1      950000      B  150000        5   \n",
            "7             8  Kartika              2     1100000      E  300000        3   \n",
            "8             9  Lestari              2      800000      E  300000        2   \n",
            "9            10      Lia              2     1700000      E  300000        5   \n",
            "\n",
            "     Total  Tingkat Kepuasan  \n",
            "0   400000                 2  \n",
            "1  1000000                 2  \n",
            "2   750000                 3  \n",
            "3   200000                 3  \n",
            "4  1000000                 2  \n",
            "5   600000                 3  \n",
            "6   750000                 1  \n",
            "7   900000                 3  \n",
            "8   600000                 1  \n",
            "9  1500000                 1  \n"
          ]
        }
      ]
    },
    {
      "cell_type": "code",
      "source": [
        "# mengambil data dari baris ke-3 sampai baris ke-(5-1) atau baris ke-4\n",
        "print (raw_data[3:5])"
      ],
      "metadata": {
        "colab": {
          "base_uri": "https://localhost:8080/"
        },
        "id": "2YbcfrCLki_j",
        "outputId": "f65076a2-e763-4f27-f1d1-a4c492b61e36"
      },
      "execution_count": 22,
      "outputs": [
        {
          "output_type": "stream",
          "name": "stdout",
          "text": [
            "   ID Pelanggan   Nama  Jenis Kelamin  Pendapatan Produk   Harga  Jumlah   \\\n",
            "3             4  Fajar              1      400000      A  100000        2   \n",
            "4             5    Ika              2     1200000      D  250000        4   \n",
            "\n",
            "     Total  Tingkat Kepuasan  \n",
            "3   200000                 3  \n",
            "4  1000000                 2  \n"
          ]
        }
      ]
    },
    {
      "cell_type": "code",
      "source": [
        "# mengambil data pada baris ke-1, ke-3 dan ke-10\n",
        "print (raw_data.loc[[1,3,10]])"
      ],
      "metadata": {
        "colab": {
          "base_uri": "https://localhost:8080/"
        },
        "id": "LgjTqLa1klho",
        "outputId": "cda23d7c-4167-470b-ca53-44cd013d026c"
      },
      "execution_count": 23,
      "outputs": [
        {
          "output_type": "stream",
          "name": "stdout",
          "text": [
            "    ID Pelanggan   Nama  Jenis Kelamin  Pendapatan Produk   Harga  Jumlah   \\\n",
            "1              2   Dian              2     1200000      D  250000        4   \n",
            "3              4  Fajar              1      400000      A  100000        2   \n",
            "10            11  Maria              2      600000      A  100000        4   \n",
            "\n",
            "      Total  Tingkat Kepuasan  \n",
            "1   1000000                 2  \n",
            "3    200000                 3  \n",
            "10   400000                 3  \n"
          ]
        }
      ]
    },
    {
      "cell_type": "code",
      "source": [
        "# Mengambil kolom 'Jenis Kelamin' dan 'Pendapatan' dan ambil baris ke-1 sampai ke-9\n",
        "print (raw_data[['Jenis Kelamin', 'Pendapatan']][1:10])"
      ],
      "metadata": {
        "colab": {
          "base_uri": "https://localhost:8080/"
        },
        "id": "d4A4y1awknAl",
        "outputId": "a76b8641-5f75-46b9-a46b-560d66126a21"
      },
      "execution_count": 24,
      "outputs": [
        {
          "output_type": "stream",
          "name": "stdout",
          "text": [
            "   Jenis Kelamin  Pendapatan\n",
            "1              2     1200000\n",
            "2              2      950000\n",
            "3              1      400000\n",
            "4              2     1200000\n",
            "5              1      800000\n",
            "6              1      950000\n",
            "7              2     1100000\n",
            "8              2      800000\n",
            "9              2     1700000\n"
          ]
        }
      ]
    },
    {
      "cell_type": "code",
      "source": [
        "# Mengambil kolom 'Harga' dan 'Tingkat Kepuasan' dan ambil baris ke-1, ke-10 dan ke-15\n",
        "print (raw_data[['Harga', 'Tingkat Kepuasan']].loc[[1,10,15]])"
      ],
      "metadata": {
        "colab": {
          "base_uri": "https://localhost:8080/"
        },
        "id": "2nxLFUgykotr",
        "outputId": "db9efa31-a0c8-435c-a29f-bc9223be3e2b"
      },
      "execution_count": 25,
      "outputs": [
        {
          "output_type": "stream",
          "name": "stdout",
          "text": [
            "     Harga  Tingkat Kepuasan\n",
            "1   250000                 2\n",
            "10  100000                 3\n",
            "15  150000                 1\n"
          ]
        }
      ]
    },
    {
      "cell_type": "code",
      "source": [],
      "metadata": {
        "id": "3MbRgNBno0Ca"
      },
      "execution_count": null,
      "outputs": []
    }
  ]
}